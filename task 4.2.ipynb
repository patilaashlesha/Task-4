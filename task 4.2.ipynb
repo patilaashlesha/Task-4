{
 "cells": [
  {
   "cell_type": "code",
   "execution_count": 1,
   "id": "aa45f1e7",
   "metadata": {},
   "outputs": [],
   "source": [
    "import cv2"
   ]
  },
  {
   "cell_type": "code",
   "execution_count": 2,
   "id": "aa2fbdab",
   "metadata": {},
   "outputs": [],
   "source": [
    "photo1=cv2.imread(\"bird1.jpg\")"
   ]
  },
  {
   "cell_type": "code",
   "execution_count": 3,
   "id": "b1ca04a7",
   "metadata": {},
   "outputs": [],
   "source": [
    "resized1=cv2.resize(photo1,(300,300))"
   ]
  },
  {
   "cell_type": "code",
   "execution_count": 16,
   "id": "ef0d4347",
   "metadata": {},
   "outputs": [],
   "source": [
    "cv2.imshow(\"hi\",resized1)\n",
    "cv2.waitKey()\n",
    "cv2.destroyAllWindows()"
   ]
  },
  {
   "cell_type": "code",
   "execution_count": 17,
   "id": "550485cf",
   "metadata": {},
   "outputs": [],
   "source": [
    "photo2=cv2.imread(\"bird2.jpg\")"
   ]
  },
  {
   "cell_type": "code",
   "execution_count": 18,
   "id": "1ef5249a",
   "metadata": {},
   "outputs": [],
   "source": [
    "resized2=cv2.resize(photo2,(300,300))"
   ]
  },
  {
   "cell_type": "code",
   "execution_count": 19,
   "id": "f3a24a5a",
   "metadata": {},
   "outputs": [],
   "source": [
    "cv2.imshow(\"hi\",resized2)\n",
    "cv2.waitKey()\n",
    "cv2.destroyAllWindows()"
   ]
  },
  {
   "cell_type": "code",
   "execution_count": 20,
   "id": "f2eb11b2",
   "metadata": {},
   "outputs": [],
   "source": [
    "r1=resized1[30:100,100:200]"
   ]
  },
  {
   "cell_type": "code",
   "execution_count": 21,
   "id": "f5cbc057",
   "metadata": {},
   "outputs": [],
   "source": [
    "resized2[30:100,100:200]=r1"
   ]
  },
  {
   "cell_type": "code",
   "execution_count": 22,
   "id": "5cc5cf12",
   "metadata": {},
   "outputs": [],
   "source": [
    "cv2.imshow(\"hi\",resized2)\n",
    "cv2.waitKey()\n",
    "cv2.destroyAllWindows()"
   ]
  },
  {
   "cell_type": "code",
   "execution_count": 23,
   "id": "f8e07c88",
   "metadata": {},
   "outputs": [],
   "source": [
    "p1=cv2.imread(\"bird1.jpg\")\n",
    "q1=cv2.resize(p1,(300,300))\n",
    "p2=cv2.imread(\"bird2.jpg\")\n",
    "q2=cv2.resize(p2,(300,300))"
   ]
  },
  {
   "cell_type": "code",
   "execution_count": 24,
   "id": "f45c06ca",
   "metadata": {},
   "outputs": [],
   "source": [
    "v2=q2[30:100,100:200]"
   ]
  },
  {
   "cell_type": "code",
   "execution_count": 25,
   "id": "a11f2bdf",
   "metadata": {},
   "outputs": [],
   "source": [
    "q1[30:100,100:200]=v2"
   ]
  },
  {
   "cell_type": "code",
   "execution_count": 26,
   "id": "64e539c2",
   "metadata": {},
   "outputs": [],
   "source": [
    "cv2.imshow(\"hi\",q1)\n",
    "cv2.waitKey()\n",
    "cv2.destroyAllWindows()"
   ]
  },
  {
   "cell_type": "code",
   "execution_count": null,
   "id": "f0a43c71",
   "metadata": {},
   "outputs": [],
   "source": []
  }
 ],
 "metadata": {
  "kernelspec": {
   "display_name": "Python 3",
   "language": "python",
   "name": "python3"
  },
  "language_info": {
   "codemirror_mode": {
    "name": "ipython",
    "version": 3
   },
   "file_extension": ".py",
   "mimetype": "text/x-python",
   "name": "python",
   "nbconvert_exporter": "python",
   "pygments_lexer": "ipython3",
   "version": "3.8.8"
  }
 },
 "nbformat": 4,
 "nbformat_minor": 5
}
