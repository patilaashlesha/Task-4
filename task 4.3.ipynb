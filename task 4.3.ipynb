{
 "cells": [
  {
   "cell_type": "code",
   "execution_count": 1,
   "id": "8a30ee44",
   "metadata": {},
   "outputs": [],
   "source": [
    "import cv2"
   ]
  },
  {
   "cell_type": "code",
   "execution_count": 2,
   "id": "3a827a79",
   "metadata": {},
   "outputs": [],
   "source": [
    "photo1=cv2.imread(\"bird1.jpg\")"
   ]
  },
  {
   "cell_type": "code",
   "execution_count": 3,
   "id": "c5fdb7a2",
   "metadata": {},
   "outputs": [],
   "source": [
    "resized1=cv2.resize(photo1,(350,300))"
   ]
  },
  {
   "cell_type": "code",
   "execution_count": 4,
   "id": "f87b50d6",
   "metadata": {},
   "outputs": [],
   "source": [
    "cv2.imshow(\"hi\",resized1)\n",
    "cv2.waitKey()\n",
    "cv2.destroyAllWindows()"
   ]
  },
  {
   "cell_type": "code",
   "execution_count": 5,
   "id": "45a2280c",
   "metadata": {},
   "outputs": [],
   "source": [
    "photo2=cv2.imread(\"bird2.jpg\")"
   ]
  },
  {
   "cell_type": "code",
   "execution_count": 6,
   "id": "3c07f527",
   "metadata": {},
   "outputs": [],
   "source": [
    "resized2=cv2.resize(photo2,(350,300))"
   ]
  },
  {
   "cell_type": "code",
   "execution_count": 7,
   "id": "cd37ae9b",
   "metadata": {},
   "outputs": [],
   "source": [
    "cv2.imshow(\"hi\",resized2)\n",
    "cv2.waitKey()\n",
    "cv2.destroyAllWindows()"
   ]
  },
  {
   "cell_type": "code",
   "execution_count": 8,
   "id": "36d07ac5",
   "metadata": {},
   "outputs": [],
   "source": [
    "import numpy"
   ]
  },
  {
   "cell_type": "code",
   "execution_count": 9,
   "id": "23967142",
   "metadata": {},
   "outputs": [],
   "source": [
    "photo3=numpy.hstack((resized1,resized2))"
   ]
  },
  {
   "cell_type": "code",
   "execution_count": 10,
   "id": "144ddd02",
   "metadata": {},
   "outputs": [],
   "source": [
    "cv2.imshow(\"hi\",photo3)\n",
    "cv2.waitKey()\n",
    "cv2.destroyAllWindows()"
   ]
  },
  {
   "cell_type": "code",
   "execution_count": null,
   "id": "22f73b8b",
   "metadata": {},
   "outputs": [],
   "source": []
  },
  {
   "cell_type": "code",
   "execution_count": null,
   "id": "492d1206",
   "metadata": {},
   "outputs": [],
   "source": []
  }
 ],
 "metadata": {
  "kernelspec": {
   "display_name": "Python 3",
   "language": "python",
   "name": "python3"
  },
  "language_info": {
   "codemirror_mode": {
    "name": "ipython",
    "version": 3
   },
   "file_extension": ".py",
   "mimetype": "text/x-python",
   "name": "python",
   "nbconvert_exporter": "python",
   "pygments_lexer": "ipython3",
   "version": "3.8.8"
  }
 },
 "nbformat": 4,
 "nbformat_minor": 5
}
